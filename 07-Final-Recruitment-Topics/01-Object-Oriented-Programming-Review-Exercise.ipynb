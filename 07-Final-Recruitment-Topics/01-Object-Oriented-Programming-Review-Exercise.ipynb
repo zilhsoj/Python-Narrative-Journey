{
 "cells": [
  {
   "cell_type": "markdown",
   "metadata": {
    "collapsed": true
   },
   "source": [
    "# OOP Review Exercises\n",
    "\n",
    "Since OOP can be complex for recruits, let's give you some quick exercises to check your understanding!\n",
    "\n",
    "### Exercise 1\n",
    "\n",
    "** Create a Sphere class that accepts a radius upon instantiation and has a volume and surface area method. **"
   ]
  },
  {
   "cell_type": "code",
   "execution_count": 27,
   "metadata": {},
   "outputs": [],
   "source": [
    "class Sphere():\n",
    "    # Create the methods here!\n",
    "    pi = 3.14\n",
    "    \n",
    "    def __init__(self, radius):\n",
    "        self.radius = radius\n",
    "        \n",
    "    def vol(self):\n",
    "        return (4/3)*Sphere.pi*self.radius*self.radius*self.radius\n",
    "        \n",
    "    \n",
    "    def surf_area(self):\n",
    "        return 4*Sphere.pi*self.radius*self.radius"
   ]
  },
  {
   "cell_type": "markdown",
   "metadata": {},
   "source": [
    "___"
   ]
  },
  {
   "cell_type": "code",
   "execution_count": 22,
   "metadata": {},
   "outputs": [],
   "source": [
    "s = Sphere(1)"
   ]
  },
  {
   "cell_type": "code",
   "execution_count": 9,
   "metadata": {},
   "outputs": [
    {
     "data": {
      "text/plain": [
       "12.56"
      ]
     },
     "execution_count": 9,
     "metadata": {},
     "output_type": "execute_result"
    }
   ],
   "source": [
    "s.surf_area()"
   ]
  },
  {
   "cell_type": "code",
   "execution_count": 26,
   "metadata": {},
   "outputs": [
    {
     "data": {
      "text/plain": [
       "4.1866666666666665"
      ]
     },
     "execution_count": 26,
     "metadata": {},
     "output_type": "execute_result"
    }
   ],
   "source": [
    "s.vol"
   ]
  },
  {
   "cell_type": "markdown",
   "metadata": {},
   "source": [
    "____"
   ]
  },
  {
   "cell_type": "markdown",
   "metadata": {},
   "source": [
    "## Exercise 2\n",
    "\n",
    "**For this exercise we will have several steps.**\n",
    "1. Create a class called GuessingGame.\n",
    "2. The class doesn't need any user provided arguments for instantiation.\n",
    "3. In the __init__ method have the class set a  self.rand_choice attribute to a random integer between 0-10 (use import random)\n",
    "4. Now create a method in the class called reset_random that will reset this self.rand_choice attribute\n",
    "5. Now create a method called guess that uses the input() function to accept a user guess for the random number. This method should print out a statement indicating whether or not the user guess was correct. Bonus: Add logic that will report back to the user to guess higher or lower next time they call the guess() method.\n",
    "\n",
    "**Check out the example code below for what the game should look like:**"
   ]
  },
  {
   "cell_type": "code",
   "execution_count": 1,
   "metadata": {},
   "outputs": [],
   "source": [
    "import random\n",
    "\n",
    "class GuessingGame():\n",
    "    \n",
    "    # Create your methods here\n",
    "    def __init__(self):\n",
    "        self.rand_choice=random.randint(0,10)\n",
    "    \n",
    "    def reset_random(self):\n",
    "#         self.rand_choice=''\n",
    "        self.__init__()\n",
    "    \n",
    "    def guess(self):\n",
    "        while True:\n",
    "            num = int(input('please choose a number'))\n",
    "        \n",
    "            if num < self.rand_choice:\n",
    "                print(\"Wrong number! Guess higher\")\n",
    "                \n",
    "\n",
    "            elif num > self.rand_choice:\n",
    "                print(\"Wrong number! Guess lower\")\n",
    "                \n",
    "\n",
    "            else:\n",
    "                print ('Correct answer!')\n",
    "                break\n",
    "            \n",
    "            "
   ]
  },
  {
   "cell_type": "markdown",
   "metadata": {},
   "source": [
    "____"
   ]
  },
  {
   "cell_type": "code",
   "execution_count": 2,
   "metadata": {},
   "outputs": [],
   "source": [
    "g = GuessingGame()"
   ]
  },
  {
   "cell_type": "code",
   "execution_count": 3,
   "metadata": {},
   "outputs": [
    {
     "data": {
      "text/plain": [
       "4"
      ]
     },
     "execution_count": 3,
     "metadata": {},
     "output_type": "execute_result"
    }
   ],
   "source": [
    "g.rand_choice"
   ]
  },
  {
   "cell_type": "code",
   "execution_count": 48,
   "metadata": {},
   "outputs": [],
   "source": [
    "g.reset_random()"
   ]
  },
  {
   "cell_type": "code",
   "execution_count": 4,
   "metadata": {},
   "outputs": [
    {
     "name": "stdout",
     "output_type": "stream",
     "text": [
      "please choose a number5\n",
      "Wrong number! Guess lower\n",
      "please choose a number1\n",
      "Wrong number! Guess higher\n",
      "please choose a number2\n",
      "Wrong number! Guess higher\n",
      "please choose a number3\n",
      "Wrong number! Guess higher\n",
      "please choose a number6\n",
      "Wrong number! Guess lower\n",
      "please choose a number7\n",
      "Wrong number! Guess lower\n",
      "please choose a number8\n",
      "Wrong number! Guess lower\n",
      "please choose a number9\n",
      "Wrong number! Guess lower\n",
      "please choose a number10\n",
      "Wrong number! Guess lower\n",
      "please choose a number3\n",
      "Wrong number! Guess higher\n",
      "please choose a number4\n",
      "Correct answer!\n"
     ]
    }
   ],
   "source": [
    "g.guess()"
   ]
  },
  {
   "cell_type": "code",
   "execution_count": 26,
   "metadata": {},
   "outputs": [
    {
     "name": "stdout",
     "output_type": "stream",
     "text": [
      "Please input your guess (0-10): 3\n",
      "Sorry you didn't guess correctly!\n",
      "Guess Lower!\n",
      "Call the guess() method again to try again.\n"
     ]
    }
   ],
   "source": [
    "g.guess()"
   ]
  },
  {
   "cell_type": "code",
   "execution_count": 27,
   "metadata": {},
   "outputs": [
    {
     "name": "stdout",
     "output_type": "stream",
     "text": [
      "Please input your guess (0-10): 1\n",
      "Correct Guess!\n"
     ]
    }
   ],
   "source": [
    "g.guess()"
   ]
  },
  {
   "cell_type": "markdown",
   "metadata": {},
   "source": [
    "**Best of luck on the exercises! Solutions are coming up next!**"
   ]
  }
 ],
 "metadata": {
  "anaconda-cloud": {},
  "kernelspec": {
   "display_name": "Python 3",
   "language": "python",
   "name": "python3"
  },
  "language_info": {
   "codemirror_mode": {
    "name": "ipython",
    "version": 3
   },
   "file_extension": ".py",
   "mimetype": "text/x-python",
   "name": "python",
   "nbconvert_exporter": "python",
   "pygments_lexer": "ipython3",
   "version": "3.8.2"
  }
 },
 "nbformat": 4,
 "nbformat_minor": 2
}
