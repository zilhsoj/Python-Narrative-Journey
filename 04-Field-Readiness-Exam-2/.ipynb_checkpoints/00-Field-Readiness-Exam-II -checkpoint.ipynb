{
 "cells": [
  {
   "cell_type": "markdown",
   "metadata": {},
   "source": [
    "# Field Readiness Exam II\n",
    "\n",
    "**Welcome to your second field readiness exam recruit! Let's quickly check your understanding on loops, python operators, functions like range and input, and list comprehensions.**\n",
    "\n",
    "**Complete the tasks below:**"
   ]
  },
  {
   "cell_type": "markdown",
   "metadata": {
    "collapsed": true
   },
   "source": [
    "### Task 1\n",
    "** Use a for loop and indexing to print out only the words that start with an s in this sentence: ** \n",
    "\n",
    "    \"Secret agents are super good at staying hidden.\"\n",
    "\n",
    "**Hint: the .split() method may be useful here! **"
   ]
  },
  {
   "cell_type": "code",
   "execution_count": 7,
   "metadata": {
    "collapsed": true
   },
   "outputs": [],
   "source": [
    "mystring = \"Secret agents are super good at staying hidden.\""
   ]
  },
  {
   "cell_type": "code",
   "execution_count": 5,
   "metadata": {},
   "outputs": [
    {
     "name": "stdout",
     "output_type": "stream",
     "text": [
      "Secret\n",
      "super\n",
      "staying\n"
     ]
    }
   ],
   "source": [
    "# Code Here\n",
    "for s in mystring.split():\n",
    "    if s[0].lower() == 's':\n",
    "        print(s)"
   ]
  },
  {
   "cell_type": "markdown",
   "metadata": {},
   "source": [
    "### Task 2"
   ]
  },
  {
   "cell_type": "markdown",
   "metadata": {},
   "source": [
    "** Using the same string as previously used:**\n",
    "\n",
    "    \"Secret agents are super good at staying hidden.\"\n",
    "\n",
    "** Use a for loop to only print out the words with an even number of characters/letters. **"
   ]
  },
  {
   "cell_type": "code",
   "execution_count": 6,
   "metadata": {},
   "outputs": [
    {
     "name": "stdout",
     "output_type": "stream",
     "text": [
      "Secret\n",
      "agents\n",
      "good\n",
      "at\n"
     ]
    }
   ],
   "source": [
    "# Code Here\n",
    "for s in mystring.split():\n",
    "    if len(s)%2 ==0:\n",
    "        print(s)"
   ]
  },
  {
   "cell_type": "markdown",
   "metadata": {},
   "source": [
    "### Task 3\n",
    "\n",
    "**Use a list comprehension to create a list of every first letter in this string:**\n",
    "\n",
    "    mystring = \"Secret agents are super good at staying hidden.\""
   ]
  },
  {
   "cell_type": "code",
   "execution_count": 10,
   "metadata": {
    "collapsed": true
   },
   "outputs": [],
   "source": [
    "mystring = \"Secret agents are super good at staying hidden.\""
   ]
  },
  {
   "cell_type": "code",
   "execution_count": 19,
   "metadata": {},
   "outputs": [
    {
     "name": "stdout",
     "output_type": "stream",
     "text": [
      "['S', 'a', 'a', 's', 'g', 'a', 's', 'h']\n"
     ]
    }
   ],
   "source": [
    "# # Code Here\n",
    "# list = [s[0] for s in mystring.split()]\n",
    "# list\n",
    "print([s[0] for s in mystring.split()])"
   ]
  },
  {
   "cell_type": "markdown",
   "metadata": {},
   "source": [
    "### Task 4\n",
    "\n",
    "**Use list comprehension to create a list of all the even numbers from 0 to 10.**"
   ]
  },
  {
   "cell_type": "code",
   "execution_count": 21,
   "metadata": {},
   "outputs": [
    {
     "name": "stdout",
     "output_type": "stream",
     "text": [
      "[0, 2, 4, 6, 8, 10]\n"
     ]
    }
   ],
   "source": [
    "# Code Here\n",
    "even = [x for x in range(11) if x%2==0]\n",
    "print(even)"
   ]
  },
  {
   "cell_type": "markdown",
   "metadata": {},
   "source": [
    "### Task 5\n",
    "\n",
    "**Use the range function to create a list of all the even numbers from 0 to 10.**"
   ]
  },
  {
   "cell_type": "code",
   "execution_count": 18,
   "metadata": {},
   "outputs": [
    {
     "data": {
      "text/plain": [
       "[0, 2, 4, 6, 8, 10]"
      ]
     },
     "execution_count": 18,
     "metadata": {},
     "output_type": "execute_result"
    }
   ],
   "source": [
    "# Code Here"
   ]
  },
  {
   "cell_type": "markdown",
   "metadata": {},
   "source": [
    "### Task 6\n",
    "\n",
    "** Create a for loop that uses the random library to create a list of 10 random numbers.**"
   ]
  },
  {
   "cell_type": "code",
   "execution_count": 30,
   "metadata": {},
   "outputs": [
    {
     "data": {
      "text/plain": [
       "39"
      ]
     },
     "execution_count": 30,
     "metadata": {},
     "output_type": "execute_result"
    }
   ],
   "source": [
    "import random\n",
    "random.randint(0,100)"
   ]
  },
  {
   "cell_type": "code",
   "execution_count": 54,
   "metadata": {},
   "outputs": [
    {
     "name": "stdout",
     "output_type": "stream",
     "text": [
      "[36, 16, 100, 74, 30, 64, 79, 22, 62, 12]\n"
     ]
    }
   ],
   "source": [
    "# Code Here\n",
    "\n",
    "rands=[]\n",
    "for x in range(0,10):\n",
    "#     if initiate rands=[] here, then it gets overwritten to empty everytime it loops, so, initiate outside of for loop\n",
    "    rands.append(random.randint(0,100))\n",
    "print(rands)\n",
    "\n",
    "\n",
    "# Dont initiate with rands=[] in the for loop"
   ]
  },
  {
   "cell_type": "markdown",
   "metadata": {},
   "source": [
    "### Task 7\n",
    "\n",
    "** Use list comprehension and the random library to create a list of 10 random numbers **"
   ]
  },
  {
   "cell_type": "code",
   "execution_count": 39,
   "metadata": {},
   "outputs": [
    {
     "data": {
      "text/plain": [
       "[56, 9, 83, 70, 87, 26, 13, 76, 82, 100, 73]"
      ]
     },
     "execution_count": 39,
     "metadata": {},
     "output_type": "execute_result"
    }
   ],
   "source": [
    "# Code Here\n",
    "list = [random.randint(0,100) for x in range(0, 11)]\n",
    "list"
   ]
  },
  {
   "cell_type": "markdown",
   "metadata": {},
   "source": [
    "### Task 8\n",
    "\n",
    "** Create a while loop that will ask the user to input an even number. It should keep repeating the request until an even integer is provided. You should only need to expect integers to be passed in, if the user provides a string or something else that can't be transformed to an integer with int(), then the loop should break with an error. **\n",
    "\n",
    "** Important things to keep in mind when working with while loops with the input() function:**\n",
    "* It's very easy to get stuck in an infinite loop, click on Kernel in the top toolbar and select Restart Kernel to fix this.\n",
    "* If you re-run a cell still waiting for an input() it will get stuck with In [*\\] , again select Restart Kernel to fix this."
   ]
  },
  {
   "cell_type": "code",
   "execution_count": 50,
   "metadata": {},
   "outputs": [
    {
     "name": "stdout",
     "output_type": "stream",
     "text": [
      "Enter an integer2\n",
      "you input an even number 2\n"
     ]
    }
   ],
   "source": [
    "# Code Here\n",
    "r=1\n",
    "while r%2!=0:\n",
    "    num = int(input(\"Enter an integer\"))\n",
    "    \n",
    "    if num%2!=0:\n",
    "        continue\n",
    "    \n",
    "    if x%2==0:\n",
    "        \n",
    "        r = num\n",
    "        print(\"you input an even number {}\".format(r))\n",
    "        break"
   ]
  },
  {
   "cell_type": "markdown",
   "metadata": {
    "collapsed": true
   },
   "source": [
    "Best of luck!"
   ]
  }
 ],
 "metadata": {
  "kernelspec": {
   "display_name": "Python 3",
   "language": "python",
   "name": "python3"
  },
  "language_info": {
   "codemirror_mode": {
    "name": "ipython",
    "version": 3
   },
   "file_extension": ".py",
   "mimetype": "text/x-python",
   "name": "python",
   "nbconvert_exporter": "python",
   "pygments_lexer": "ipython3",
   "version": "3.8.2"
  }
 },
 "nbformat": 4,
 "nbformat_minor": 2
}
